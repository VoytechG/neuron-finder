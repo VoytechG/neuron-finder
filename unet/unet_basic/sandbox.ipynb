{
 "cells": [
  {
   "cell_type": "code",
   "execution_count": 1,
   "metadata": {},
   "outputs": [],
   "source": [
    "%run \"model.py\""
   ]
  },
  {
   "cell_type": "code",
   "execution_count": 2,
   "metadata": {},
   "outputs": [],
   "source": [
    "# model = unet(three_layers=False)\n",
    "# plot_model(model, 'unet_4.png')"
   ]
  },
  {
   "cell_type": "code",
   "execution_count": 3,
   "metadata": {},
   "outputs": [],
   "source": [
    "# model = unet(three_layers=True)\n",
    "# plot_model(model, 'unet_3.png')"
   ]
  },
  {
   "cell_type": "code",
   "execution_count": 4,
   "metadata": {},
   "outputs": [],
   "source": [
    "%run \"main.py\""
   ]
  },
  {
   "cell_type": "code",
   "execution_count": 7,
   "metadata": {},
   "outputs": [
    {
     "name": "stdout",
     "output_type": "stream",
     "text": [
      "Found 30 images belonging to 1 classes.\n",
      "Found 30 images belonging to 1 classes.\n",
      "WARNING:tensorflow:sample_weight modes were coerced from\n",
      "  ...\n",
      "    to  \n",
      "  ['...']\n",
      "Train for 30 steps\n",
      "29/30 [============================>.] - ETA: 0s - loss: 0.4871 - accuracy: 0.7119\n",
      "Epoch 00001: loss improved from inf to 0.48377, saving model to unet_membrane.hdf5\n",
      "30/30 [==============================] - 10s 343ms/step - loss: 0.4838 - accuracy: 0.7157\n",
      "30/30 [==============================] - 2s 60ms/step\n"
     ]
    },
    {
     "name": "stderr",
     "output_type": "stream",
     "text": [
      "Lossy conversion from float32 to uint8. Range [0.0, 1.4897346496582031]. Convert image to uint8 prior to saving to suppress this warning.\n",
      "Lossy conversion from float32 to uint8. Range [0.0, 1.4795713424682617]. Convert image to uint8 prior to saving to suppress this warning.\n",
      "Lossy conversion from float32 to uint8. Range [0.0, 1.3266915082931519]. Convert image to uint8 prior to saving to suppress this warning.\n",
      "Lossy conversion from float32 to uint8. Range [0.0, 1.3185615539550781]. Convert image to uint8 prior to saving to suppress this warning.\n",
      "Lossy conversion from float32 to uint8. Range [0.0, 1.4082636833190918]. Convert image to uint8 prior to saving to suppress this warning.\n",
      "Lossy conversion from float32 to uint8. Range [0.0, 1.3960455656051636]. Convert image to uint8 prior to saving to suppress this warning.\n",
      "Lossy conversion from float32 to uint8. Range [0.0, 1.5047663450241089]. Convert image to uint8 prior to saving to suppress this warning.\n",
      "Lossy conversion from float32 to uint8. Range [0.0, 1.6072475910186768]. Convert image to uint8 prior to saving to suppress this warning.\n",
      "Lossy conversion from float32 to uint8. Range [0.0, 1.2884901762008667]. Convert image to uint8 prior to saving to suppress this warning.\n",
      "Lossy conversion from float32 to uint8. Range [0.0, 1.4215166568756104]. Convert image to uint8 prior to saving to suppress this warning.\n",
      "Lossy conversion from float32 to uint8. Range [0.0, 1.8286694288253784]. Convert image to uint8 prior to saving to suppress this warning.\n",
      "Lossy conversion from float32 to uint8. Range [0.0, 1.481521725654602]. Convert image to uint8 prior to saving to suppress this warning.\n",
      "Lossy conversion from float32 to uint8. Range [0.0, 1.4553488492965698]. Convert image to uint8 prior to saving to suppress this warning.\n",
      "Lossy conversion from float32 to uint8. Range [0.0, 1.5710108280181885]. Convert image to uint8 prior to saving to suppress this warning.\n",
      "Lossy conversion from float32 to uint8. Range [0.0, 1.4831684827804565]. Convert image to uint8 prior to saving to suppress this warning.\n",
      "Lossy conversion from float32 to uint8. Range [0.0, 1.4803544282913208]. Convert image to uint8 prior to saving to suppress this warning.\n",
      "Lossy conversion from float32 to uint8. Range [0.0, 1.3143600225448608]. Convert image to uint8 prior to saving to suppress this warning.\n",
      "Lossy conversion from float32 to uint8. Range [0.0, 1.2918673753738403]. Convert image to uint8 prior to saving to suppress this warning.\n",
      "Lossy conversion from float32 to uint8. Range [0.0, 1.2449102401733398]. Convert image to uint8 prior to saving to suppress this warning.\n",
      "Lossy conversion from float32 to uint8. Range [0.0, 1.5398601293563843]. Convert image to uint8 prior to saving to suppress this warning.\n",
      "Lossy conversion from float32 to uint8. Range [0.0, 1.232937216758728]. Convert image to uint8 prior to saving to suppress this warning.\n",
      "Lossy conversion from float32 to uint8. Range [0.0, 1.4264297485351562]. Convert image to uint8 prior to saving to suppress this warning.\n",
      "Lossy conversion from float32 to uint8. Range [0.0, 1.260099172592163]. Convert image to uint8 prior to saving to suppress this warning.\n",
      "Lossy conversion from float32 to uint8. Range [0.0, 1.1621134281158447]. Convert image to uint8 prior to saving to suppress this warning.\n",
      "Lossy conversion from float32 to uint8. Range [0.0, 1.2020313739776611]. Convert image to uint8 prior to saving to suppress this warning.\n",
      "Lossy conversion from float32 to uint8. Range [0.0, 1.399320363998413]. Convert image to uint8 prior to saving to suppress this warning.\n",
      "Lossy conversion from float32 to uint8. Range [0.0, 1.4278794527053833]. Convert image to uint8 prior to saving to suppress this warning.\n",
      "Lossy conversion from float32 to uint8. Range [0.0, 1.4988995790481567]. Convert image to uint8 prior to saving to suppress this warning.\n",
      "Lossy conversion from float32 to uint8. Range [0.0, 1.4380043745040894]. Convert image to uint8 prior to saving to suppress this warning.\n",
      "Lossy conversion from float32 to uint8. Range [0.0, 1.3007540702819824]. Convert image to uint8 prior to saving to suppress this warning.\n"
     ]
    },
    {
     "name": "stdout",
     "output_type": "stream",
     "text": [
      "\r",
      "1/1 [==============================] - 0s 52ms/step\n"
     ]
    },
    {
     "name": "stderr",
     "output_type": "stream",
     "text": [
      "Lossy conversion from float32 to uint8. Range [0.0, 1.4897346496582031]. Convert image to uint8 prior to saving to suppress this warning.\n"
     ]
    }
   ],
   "source": [
    "model = unet(three_layers=True, categorical_cross_entropy=True)\n",
    "# model.summary()\n",
    "demo_training(model)\n",
    "\n",
    "testGene = testGenerator(\"data/membrane/test\")\n",
    "results = model.predict_generator(testGene, 1, verbose=1)\n",
    "saveResult(\"data/membrane/test\", results)"
   ]
  },
  {
   "cell_type": "code",
   "execution_count": 10,
   "metadata": {},
   "outputs": [
    {
     "name": "stdout",
     "output_type": "stream",
     "text": [
      "Model: \"model_5\"\n",
      "_________________________________________________________________\n",
      "Layer (type)                 Output Shape              Param #   \n",
      "=================================================================\n",
      "input_6 (InputLayer)         [(None, 256, 256, 1)]     0         \n",
      "_________________________________________________________________\n",
      "max_pooling2d_11 (MaxPooling (None, 128, 128, 1)       0         \n",
      "_________________________________________________________________\n",
      "up_sampling2d_9 (UpSampling2 (None, 256, 256, 1)       0         \n",
      "=================================================================\n",
      "Total params: 0\n",
      "Trainable params: 0\n",
      "Non-trainable params: 0\n",
      "_________________________________________________________________\n",
      "\r",
      "1/1 [==============================] - 0s 31ms/step\n"
     ]
    },
    {
     "name": "stderr",
     "output_type": "stream",
     "text": [
      "Lossy conversion from float32 to uint8. Range [0, 1]. Convert image to uint8 prior to saving to suppress this warning.\n"
     ]
    }
   ],
   "source": [
    "%run \"pooling\""
   ]
  },
  {
   "cell_type": "code",
   "execution_count": 34,
   "metadata": {},
   "outputs": [],
   "source": [
    "%run \"model_three.py\""
   ]
  },
  {
   "cell_type": "code",
   "execution_count": 13,
   "metadata": {},
   "outputs": [
    {
     "data": {
      "text/plain": [
       "array([[[0.7870202 ],\n",
       "        [0.7870202 ],\n",
       "        [0.8084991 ],\n",
       "        [0.8084991 ],\n",
       "        [0.8961963 ]],\n",
       "\n",
       "       [[0.7870202 ],\n",
       "        [0.7870202 ],\n",
       "        [0.8084991 ],\n",
       "        [0.8084991 ],\n",
       "        [0.8961963 ]],\n",
       "\n",
       "       [[0.85103524],\n",
       "        [0.85103524],\n",
       "        [0.8392166 ],\n",
       "        [0.8392166 ],\n",
       "        [0.93398196]],\n",
       "\n",
       "       [[0.85103524],\n",
       "        [0.85103524],\n",
       "        [0.8392166 ],\n",
       "        [0.8392166 ],\n",
       "        [0.93398196]],\n",
       "\n",
       "       [[0.92058295],\n",
       "        [0.92058295],\n",
       "        [0.88303167],\n",
       "        [0.88303167],\n",
       "        [0.8530796 ]]], dtype=float32)"
      ]
     },
     "execution_count": 13,
     "metadata": {},
     "output_type": "execute_result"
    }
   ],
   "source": [
    "results[0, :5, :5]"
   ]
  },
  {
   "cell_type": "code",
   "execution_count": 35,
   "metadata": {},
   "outputs": [
    {
     "name": "stdout",
     "output_type": "stream",
     "text": [
      "hello\n"
     ]
    }
   ],
   "source": [
    "model = unet3d()"
   ]
  },
  {
   "cell_type": "code",
   "execution_count": 36,
   "metadata": {},
   "outputs": [
    {
     "name": "stdout",
     "output_type": "stream",
     "text": [
      "Model: \"model_9\"\n",
      "__________________________________________________________________________________________________\n",
      "Layer (type)                    Output Shape         Param #     Connected to                     \n",
      "==================================================================================================\n",
      "input_15 (InputLayer)           [(None, 16, 256, 256 0                                            \n",
      "__________________________________________________________________________________________________\n",
      "conv3d_157 (Conv3D)             (None, 16, 256, 256, 1792        input_15[0][0]                   \n",
      "__________________________________________________________________________________________________\n",
      "conv3d_158 (Conv3D)             (None, 16, 256, 256, 110656      conv3d_157[0][0]                 \n",
      "__________________________________________________________________________________________________\n",
      "max_pooling3d_27 (MaxPooling3D) (None, 8, 128, 128,  0           conv3d_158[0][0]                 \n",
      "__________________________________________________________________________________________________\n",
      "conv3d_159 (Conv3D)             (None, 8, 128, 128,  221312      max_pooling3d_27[0][0]           \n",
      "__________________________________________________________________________________________________\n",
      "conv3d_160 (Conv3D)             (None, 8, 128, 128,  442496      conv3d_159[0][0]                 \n",
      "__________________________________________________________________________________________________\n",
      "max_pooling3d_28 (MaxPooling3D) (None, 4, 64, 64, 12 0           conv3d_160[0][0]                 \n",
      "__________________________________________________________________________________________________\n",
      "conv3d_161 (Conv3D)             (None, 4, 64, 64, 25 884992      max_pooling3d_28[0][0]           \n",
      "__________________________________________________________________________________________________\n",
      "conv3d_162 (Conv3D)             (None, 4, 64, 64, 25 1769728     conv3d_161[0][0]                 \n",
      "__________________________________________________________________________________________________\n",
      "dropout_22 (Dropout)            (None, 4, 64, 64, 25 0           conv3d_162[0][0]                 \n",
      "__________________________________________________________________________________________________\n",
      "max_pooling3d_29 (MaxPooling3D) (None, 2, 32, 32, 25 0           dropout_22[0][0]                 \n",
      "__________________________________________________________________________________________________\n",
      "conv3d_163 (Conv3D)             (None, 2, 32, 32, 51 3539456     max_pooling3d_29[0][0]           \n",
      "__________________________________________________________________________________________________\n",
      "conv3d_164 (Conv3D)             (None, 2, 32, 32, 51 7078400     conv3d_163[0][0]                 \n",
      "__________________________________________________________________________________________________\n",
      "dropout_23 (Dropout)            (None, 2, 32, 32, 51 0           conv3d_164[0][0]                 \n",
      "__________________________________________________________________________________________________\n",
      "up_sampling3d_24 (UpSampling3D) (None, 4, 64, 64, 51 0           dropout_23[0][0]                 \n",
      "__________________________________________________________________________________________________\n",
      "conv3d_165 (Conv3D)             (None, 4, 64, 64, 25 1048832     up_sampling3d_24[0][0]           \n",
      "__________________________________________________________________________________________________\n",
      "concatenate_31 (Concatenate)    (None, 4, 64, 64, 51 0           dropout_22[0][0]                 \n",
      "                                                                 conv3d_165[0][0]                 \n",
      "__________________________________________________________________________________________________\n",
      "conv3d_166 (Conv3D)             (None, 4, 64, 64, 25 3539200     concatenate_31[0][0]             \n",
      "__________________________________________________________________________________________________\n",
      "conv3d_167 (Conv3D)             (None, 4, 64, 64, 25 1769728     conv3d_166[0][0]                 \n",
      "__________________________________________________________________________________________________\n",
      "up_sampling3d_25 (UpSampling3D) (None, 8, 128, 128,  0           conv3d_167[0][0]                 \n",
      "__________________________________________________________________________________________________\n",
      "conv3d_168 (Conv3D)             (None, 8, 128, 128,  262272      up_sampling3d_25[0][0]           \n",
      "__________________________________________________________________________________________________\n",
      "concatenate_32 (Concatenate)    (None, 8, 128, 128,  0           conv3d_160[0][0]                 \n",
      "                                                                 conv3d_168[0][0]                 \n",
      "__________________________________________________________________________________________________\n",
      "conv3d_169 (Conv3D)             (None, 8, 128, 128,  884864      concatenate_32[0][0]             \n",
      "__________________________________________________________________________________________________\n",
      "conv3d_170 (Conv3D)             (None, 8, 128, 128,  442496      conv3d_169[0][0]                 \n",
      "__________________________________________________________________________________________________\n",
      "up_sampling3d_26 (UpSampling3D) (None, 16, 256, 256, 0           conv3d_170[0][0]                 \n",
      "__________________________________________________________________________________________________\n",
      "conv3d_171 (Conv3D)             (None, 16, 256, 256, 65600       up_sampling3d_26[0][0]           \n",
      "__________________________________________________________________________________________________\n",
      "concatenate_33 (Concatenate)    (None, 16, 256, 256, 0           conv3d_158[0][0]                 \n",
      "                                                                 conv3d_171[0][0]                 \n",
      "__________________________________________________________________________________________________\n",
      "conv3d_172 (Conv3D)             (None, 16, 256, 256, 221248      concatenate_33[0][0]             \n",
      "__________________________________________________________________________________________________\n",
      "conv3d_173 (Conv3D)             (None, 16, 256, 256, 110656      conv3d_172[0][0]                 \n",
      "__________________________________________________________________________________________________\n",
      "conv3d_174 (Conv3D)             (None, 16, 256, 256, 1154        conv3d_173[0][0]                 \n",
      "__________________________________________________________________________________________________\n",
      "conv3d_175 (Conv3D)             (None, 1, 256, 256,  66          conv3d_174[0][0]                 \n",
      "__________________________________________________________________________________________________\n",
      "reshape_2 (Reshape)             (None, 256, 256, 1)  0           conv3d_175[0][0]                 \n",
      "==================================================================================================\n",
      "Total params: 22,394,948\n",
      "Trainable params: 22,394,948\n",
      "Non-trainable params: 0\n",
      "__________________________________________________________________________________________________\n"
     ]
    }
   ],
   "source": [
    "model.summary()"
   ]
  },
  {
   "cell_type": "code",
   "execution_count": null,
   "metadata": {},
   "outputs": [],
   "source": []
  }
 ],
 "metadata": {
  "kernelspec": {
   "display_name": "Python [conda env:.conda-tf2-gpu]",
   "language": "python",
   "name": "conda-env-.conda-tf2-gpu-py"
  },
  "language_info": {
   "codemirror_mode": {
    "name": "ipython",
    "version": 3
   },
   "file_extension": ".py",
   "mimetype": "text/x-python",
   "name": "python",
   "nbconvert_exporter": "python",
   "pygments_lexer": "ipython3",
   "version": "3.7.7"
  },
  "varInspector": {
   "cols": {
    "lenName": 16,
    "lenType": 16,
    "lenVar": 40
   },
   "kernels_config": {
    "python": {
     "delete_cmd_postfix": "",
     "delete_cmd_prefix": "del ",
     "library": "var_list.py",
     "varRefreshCmd": "print(var_dic_list())"
    },
    "r": {
     "delete_cmd_postfix": ") ",
     "delete_cmd_prefix": "rm(",
     "library": "var_list.r",
     "varRefreshCmd": "cat(var_dic_list()) "
    }
   },
   "types_to_exclude": [
    "module",
    "function",
    "builtin_function_or_method",
    "instance",
    "_Feature"
   ],
   "window_display": false
  }
 },
 "nbformat": 4,
 "nbformat_minor": 2
}
